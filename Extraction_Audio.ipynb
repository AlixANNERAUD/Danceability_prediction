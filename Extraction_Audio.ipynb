{
 "cells": [
  {
   "cell_type": "code",
   "execution_count": 49,
   "metadata": {},
   "outputs": [
    {
     "name": "stdout",
     "output_type": "stream",
     "text": [
      "/home/alix_anneraud\n",
      "Fichier: /home/alix_anneraud/Téléchargements/archive/MP3-Example/Jazz/Jazz-TREKOJF128EF340745.mp3, Loudness: 0.16958318650722504, Rythme: 112.34714673913044, Tonalite: ['D♯5' 'C2' 'C2' ... 'C♯2' 'A♯2' 'A♯2']\n",
      "Fichier: /home/alix_anneraud/Téléchargements/archive/MP3-Example/Jazz/Jazz-TRGQSKW128F428E601.mp3, Loudness: 0.2246565967798233, Rythme: 151.99908088235293, Tonalite: ['D♯5' 'C2' 'C2' ... 'C♯2' 'A♯2' 'A♯2']\n",
      "Fichier: /home/alix_anneraud/Téléchargements/archive/MP3-Example/Jazz/Jazz-TRLSXYO128F14932F1.mp3, Loudness: 0.25781404972076416, Rythme: 143.5546875, Tonalite: ['D♯5' 'C2' 'C2' ... 'C♯2' 'A♯2' 'A♯2']\n",
      "Fichier: /home/alix_anneraud/Téléchargements/archive/MP3-Example/Jazz/Jazz-TRFVWHK128F4279F58.mp3, Loudness: 0.09088827669620514, Rythme: 117.45383522727273, Tonalite: ['D♯5' 'C2' 'C2' ... 'C♯2' 'A♯2' 'A♯2']\n",
      "Fichier: /home/alix_anneraud/Téléchargements/archive/MP3-Example/Jazz/Jazz-TRXUZAU12903CB4EA9.mp3, Loudness: 0.03842177987098694, Rythme: 99.38401442307692, Tonalite: ['D♯5' 'C2' 'C2' ... 'C♯2' 'A♯2' 'A♯2']\n",
      "Fichier: /home/alix_anneraud/Téléchargements/archive/MP3-Example/Jazz/Jazz-TRVWDIW12903CBAC37.mp3, Loudness: 0.1338341236114502, Rythme: 135.99917763157896, Tonalite: ['D♯5' 'C2' 'C2' ... 'C♯2' 'A♯2' 'A♯2']\n",
      "Fichier: /home/alix_anneraud/Téléchargements/archive/MP3-Example/Jazz/Jazz-TRPKOKR12903CE91AF.mp3, Loudness: 0.1313667744398117, Rythme: 161.4990234375, Tonalite: ['D♯5' 'C2' 'C2' ... 'C♯2' 'A♯2' 'A♯2']\n",
      "Fichier: /home/alix_anneraud/Téléchargements/archive/MP3-Example/Jazz/Jazz-TRABTZP128F92D9357.mp3, Loudness: 0.2806563377380371, Rythme: 117.45383522727273, Tonalite: ['D♯5' 'C2' 'C2' ... 'C♯2' 'A♯2' 'A♯2']\n",
      "Fichier: /home/alix_anneraud/Téléchargements/archive/MP3-Example/Jazz/Jazz-TRIPDVC128F9300653.mp3, Loudness: 0.1381622850894928, Rythme: 172.265625, Tonalite: ['D♯5' 'C2' 'C2' ... 'C♯2' 'A♯2' 'A♯2']\n",
      "Fichier: /home/alix_anneraud/Téléchargements/archive/MP3-Example/Jazz/Jazz-TRPIBJW128F428CE9A.mp3, Loudness: 0.3153797686100006, Rythme: 103.359375, Tonalite: ['D♯5' 'C2' 'C2' ... 'C♯2' 'A♯2' 'A♯2']\n",
      "Fichier: /home/alix_anneraud/Téléchargements/archive/MP3-Example/Jazz/Jazz-TRDETUH128F9319F7D.mp3, Loudness: 0.3265187740325928, Rythme: 117.45383522727273, Tonalite: ['D♯5' 'C2' 'C2' ... 'C♯2' 'A♯2' 'A♯2']\n",
      "Fichier: /home/alix_anneraud/Téléchargements/archive/MP3-Example/Jazz/Jazz-TRKREKL128F92DC9A1.mp3, Loudness: 0.14865948259830475, Rythme: 135.99917763157896, Tonalite: ['D♯5' 'C2' 'C2' ... 'C♯2' 'A♯2' 'A♯2']\n",
      "Fichier: /home/alix_anneraud/Téléchargements/archive/MP3-Example/Jazz/Jazz-TRIUIPA128F931C0F3.mp3, Loudness: 0.16973403096199036, Rythme: 129.19921875, Tonalite: ['D♯5' 'C2' 'C2' ... 'C♯2' 'A♯2' 'A♯2']\n",
      "Fichier: /home/alix_anneraud/Téléchargements/archive/MP3-Example/Jazz/Jazz-TROMWIV128F429E3CE.mp3, Loudness: 0.29826611280441284, Rythme: 117.45383522727273, Tonalite: ['D♯5' 'C2' 'C2' ... 'C♯2' 'A♯2' 'A♯2']\n",
      "Fichier: /home/alix_anneraud/Téléchargements/archive/MP3-Example/Jazz/Jazz-TROIHZU12903CDCA9A.mp3, Loudness: 0.05986020714044571, Rythme: 117.45383522727273, Tonalite: ['D♯5' 'C2' 'C2' ... 'C♯2' 'A♯2' 'A♯2']\n",
      "Fichier: /home/alix_anneraud/Téléchargements/archive/MP3-Example/Jazz/Jazz-TRROFDK128F1499D84.mp3, Loudness: 0.1119418814778328, Rythme: 103.359375, Tonalite: ['D♯5' 'C2' 'C2' ... 'C♯2' 'A♯2' 'A♯2']\n",
      "Fichier: /home/alix_anneraud/Téléchargements/archive/MP3-Example/Jazz/Jazz-TRUGBKO12903CCF906.mp3, Loudness: 0.16995345056056976, Rythme: 135.99917763157896, Tonalite: ['D♯5' 'C2' 'C2' ... 'C♯2' 'A♯2' 'A♯2']\n",
      "Fichier: /home/alix_anneraud/Téléchargements/archive/MP3-Example/Jazz/Jazz-TRGGAUY128F42772FF.mp3, Loudness: 0.1779784858226776, Rythme: 117.45383522727273, Tonalite: ['D♯5' 'C2' 'C2' ... 'C♯2' 'A♯2' 'A♯2']\n"
     ]
    },
    {
     "ename": "KeyboardInterrupt",
     "evalue": "",
     "output_type": "error",
     "traceback": [
      "\u001b[0;31m---------------------------------------------------------------------------\u001b[0m",
      "\u001b[0;31mKeyboardInterrupt\u001b[0m                         Traceback (most recent call last)",
      "\u001b[1;32m/home/alix_anneraud/Git/Projet-M8/Extraction_Audio.ipynb Cell 1\u001b[0m in \u001b[0;36m4\n\u001b[1;32m     <a href='vscode-notebook-cell:/home/alix_anneraud/Git/Projet-M8/Extraction_Audio.ipynb#W0sZmlsZQ%3D%3D?line=41'>42</a>\u001b[0m Chemin_Fichiers \u001b[39m=\u001b[39m Liste_Fichiers(Chemin_Dossier)\n\u001b[1;32m     <a href='vscode-notebook-cell:/home/alix_anneraud/Git/Projet-M8/Extraction_Audio.ipynb#W0sZmlsZQ%3D%3D?line=43'>44</a>\u001b[0m \u001b[39mfor\u001b[39;00m Chemin_Fichier \u001b[39min\u001b[39;00m Chemin_Fichiers:\n\u001b[0;32m---> <a href='vscode-notebook-cell:/home/alix_anneraud/Git/Projet-M8/Extraction_Audio.ipynb#W0sZmlsZQ%3D%3D?line=44'>45</a>\u001b[0m     Loudness, Rythme, Tonalite \u001b[39m=\u001b[39m Obtenir_Characteristques_Audio(Chemin_Fichier)\n\u001b[1;32m     <a href='vscode-notebook-cell:/home/alix_anneraud/Git/Projet-M8/Extraction_Audio.ipynb#W0sZmlsZQ%3D%3D?line=45'>46</a>\u001b[0m     \u001b[39mprint\u001b[39m(\u001b[39mf\u001b[39m\u001b[39m\"\u001b[39m\u001b[39mFichier: \u001b[39m\u001b[39m{\u001b[39;00mChemin_Fichier\u001b[39m}\u001b[39;00m\u001b[39m, Loudness: \u001b[39m\u001b[39m{\u001b[39;00mLoudness\u001b[39m}\u001b[39;00m\u001b[39m, Rythme: \u001b[39m\u001b[39m{\u001b[39;00mRythme\u001b[39m}\u001b[39;00m\u001b[39m, Tonalite: \u001b[39m\u001b[39m{\u001b[39;00mTonalite\u001b[39m}\u001b[39;00m\u001b[39m\"\u001b[39m)\n",
      "\u001b[1;32m/home/alix_anneraud/Git/Projet-M8/Extraction_Audio.ipynb Cell 1\u001b[0m in \u001b[0;36m3\n\u001b[1;32m     <a href='vscode-notebook-cell:/home/alix_anneraud/Git/Projet-M8/Extraction_Audio.ipynb#W0sZmlsZQ%3D%3D?line=27'>28</a>\u001b[0m  Loudness \u001b[39m=\u001b[39m librosa\u001b[39m.\u001b[39mfeature\u001b[39m.\u001b[39mrms(y\u001b[39m=\u001b[39mSignal)\u001b[39m.\u001b[39mmean()\n\u001b[1;32m     <a href='vscode-notebook-cell:/home/alix_anneraud/Git/Projet-M8/Extraction_Audio.ipynb#W0sZmlsZQ%3D%3D?line=29'>30</a>\u001b[0m  \u001b[39m# Extraction du rythme\u001b[39;00m\n\u001b[0;32m---> <a href='vscode-notebook-cell:/home/alix_anneraud/Git/Projet-M8/Extraction_Audio.ipynb#W0sZmlsZQ%3D%3D?line=30'>31</a>\u001b[0m  Rythme \u001b[39m=\u001b[39m librosa\u001b[39m.\u001b[39;49mfeature\u001b[39m.\u001b[39;49mrhythm\u001b[39m.\u001b[39;49mtempo(y\u001b[39m=\u001b[39;49mSignal, sr\u001b[39m=\u001b[39;49mTaux_Echantillonage)[\u001b[39m0\u001b[39m]\n\u001b[1;32m     <a href='vscode-notebook-cell:/home/alix_anneraud/Git/Projet-M8/Extraction_Audio.ipynb#W0sZmlsZQ%3D%3D?line=32'>33</a>\u001b[0m \u001b[39m# Calculer la tonalité\u001b[39;00m\n\u001b[1;32m     <a href='vscode-notebook-cell:/home/alix_anneraud/Git/Projet-M8/Extraction_Audio.ipynb#W0sZmlsZQ%3D%3D?line=33'>34</a>\u001b[0m  pitch \u001b[39m=\u001b[39m librosa\u001b[39m.\u001b[39myin(signal, fmin\u001b[39m=\u001b[39mlibrosa\u001b[39m.\u001b[39mnote_to_hz(\u001b[39m'\u001b[39m\u001b[39mC2\u001b[39m\u001b[39m'\u001b[39m), fmax\u001b[39m=\u001b[39mlibrosa\u001b[39m.\u001b[39mnote_to_hz(\u001b[39m'\u001b[39m\u001b[39mC7\u001b[39m\u001b[39m'\u001b[39m))\n",
      "File \u001b[0;32m~/.local/lib/python3.11/site-packages/librosa/feature/rhythm.py:418\u001b[0m, in \u001b[0;36mtempo\u001b[0;34m(y, sr, onset_envelope, tg, hop_length, start_bpm, std_bpm, ac_size, max_tempo, aggregate, prior)\u001b[0m\n\u001b[1;32m    415\u001b[0m \u001b[39mif\u001b[39;00m tg \u001b[39mis\u001b[39;00m \u001b[39mNone\u001b[39;00m:\n\u001b[1;32m    416\u001b[0m     win_length \u001b[39m=\u001b[39m time_to_frames(ac_size, sr\u001b[39m=\u001b[39msr, hop_length\u001b[39m=\u001b[39mhop_length)\u001b[39m.\u001b[39mitem()\n\u001b[0;32m--> 418\u001b[0m     tg \u001b[39m=\u001b[39m tempogram(\n\u001b[1;32m    419\u001b[0m         y\u001b[39m=\u001b[39;49my,\n\u001b[1;32m    420\u001b[0m         sr\u001b[39m=\u001b[39;49msr,\n\u001b[1;32m    421\u001b[0m         onset_envelope\u001b[39m=\u001b[39;49monset_envelope,\n\u001b[1;32m    422\u001b[0m         hop_length\u001b[39m=\u001b[39;49mhop_length,\n\u001b[1;32m    423\u001b[0m         win_length\u001b[39m=\u001b[39;49mwin_length,\n\u001b[1;32m    424\u001b[0m     )\n\u001b[1;32m    425\u001b[0m \u001b[39melse\u001b[39;00m:\n\u001b[1;32m    426\u001b[0m     \u001b[39m# Override window length by what's actually given\u001b[39;00m\n\u001b[1;32m    427\u001b[0m     win_length \u001b[39m=\u001b[39m tg\u001b[39m.\u001b[39mshape[\u001b[39m-\u001b[39m\u001b[39m2\u001b[39m]\n",
      "File \u001b[0;32m~/.local/lib/python3.11/site-packages/librosa/feature/rhythm.py:176\u001b[0m, in \u001b[0;36mtempogram\u001b[0;34m(y, sr, onset_envelope, hop_length, win_length, center, window, norm)\u001b[0m\n\u001b[1;32m    172\u001b[0m ac_window \u001b[39m=\u001b[39m util\u001b[39m.\u001b[39mexpand_to(ac_window, ndim\u001b[39m=\u001b[39modf_frame\u001b[39m.\u001b[39mndim, axes\u001b[39m=\u001b[39m\u001b[39m-\u001b[39m\u001b[39m2\u001b[39m)\n\u001b[1;32m    174\u001b[0m \u001b[39m# Window, autocorrelate, and normalize\u001b[39;00m\n\u001b[1;32m    175\u001b[0m \u001b[39mreturn\u001b[39;00m util\u001b[39m.\u001b[39mnormalize(\n\u001b[0;32m--> 176\u001b[0m     autocorrelate(odf_frame \u001b[39m*\u001b[39;49m ac_window, axis\u001b[39m=\u001b[39;49m\u001b[39m-\u001b[39;49m\u001b[39m2\u001b[39;49m), norm\u001b[39m=\u001b[39mnorm, axis\u001b[39m=\u001b[39m\u001b[39m-\u001b[39m\u001b[39m2\u001b[39m\n\u001b[1;32m    177\u001b[0m )\n",
      "File \u001b[0;32m~/.local/lib/python3.11/site-packages/librosa/core/audio.py:938\u001b[0m, in \u001b[0;36mautocorrelate\u001b[0;34m(y, max_size, axis)\u001b[0m\n\u001b[1;32m    934\u001b[0m     autocorr \u001b[39m=\u001b[39m fft\u001b[39m.\u001b[39mifft(powspec, n\u001b[39m=\u001b[39mn_pad, axis\u001b[39m=\u001b[39maxis)\n\u001b[1;32m    935\u001b[0m \u001b[39melse\u001b[39;00m:\n\u001b[1;32m    936\u001b[0m     \u001b[39m# Compute the power spectrum along the chosen axis\u001b[39;00m\n\u001b[1;32m    937\u001b[0m     \u001b[39m# Pad out the signal to support full-length auto-correlation.\u001b[39;00m\n\u001b[0;32m--> 938\u001b[0m     powspec \u001b[39m=\u001b[39m util\u001b[39m.\u001b[39mabs2(fft\u001b[39m.\u001b[39;49mrfft(y, n\u001b[39m=\u001b[39;49mn_pad, axis\u001b[39m=\u001b[39;49maxis))\n\u001b[1;32m    940\u001b[0m     \u001b[39m# Convert back to time domain\u001b[39;00m\n\u001b[1;32m    941\u001b[0m     autocorr \u001b[39m=\u001b[39m fft\u001b[39m.\u001b[39mirfft(powspec, n\u001b[39m=\u001b[39mn_pad, axis\u001b[39m=\u001b[39maxis)\n",
      "File \u001b[0;32m<__array_function__ internals>:200\u001b[0m, in \u001b[0;36mrfft\u001b[0;34m(*args, **kwargs)\u001b[0m\n",
      "File \u001b[0;32m/usr/lib/python3/dist-packages/numpy/fft/_pocketfft.py:409\u001b[0m, in \u001b[0;36mrfft\u001b[0;34m(a, n, axis, norm)\u001b[0m\n\u001b[1;32m    407\u001b[0m     n \u001b[39m=\u001b[39m a\u001b[39m.\u001b[39mshape[axis]\n\u001b[1;32m    408\u001b[0m inv_norm \u001b[39m=\u001b[39m _get_forward_norm(n, norm)\n\u001b[0;32m--> 409\u001b[0m output \u001b[39m=\u001b[39m _raw_fft(a, n, axis, \u001b[39mTrue\u001b[39;49;00m, \u001b[39mTrue\u001b[39;49;00m, inv_norm)\n\u001b[1;32m    410\u001b[0m \u001b[39mreturn\u001b[39;00m output\n",
      "File \u001b[0;32m/usr/lib/python3/dist-packages/numpy/fft/_pocketfft.py:73\u001b[0m, in \u001b[0;36m_raw_fft\u001b[0;34m(a, n, axis, is_real, is_forward, inv_norm)\u001b[0m\n\u001b[1;32m     71\u001b[0m \u001b[39melse\u001b[39;00m:\n\u001b[1;32m     72\u001b[0m     a \u001b[39m=\u001b[39m swapaxes(a, axis, \u001b[39m-\u001b[39m\u001b[39m1\u001b[39m)\n\u001b[0;32m---> 73\u001b[0m     r \u001b[39m=\u001b[39m pfi\u001b[39m.\u001b[39;49mexecute(a, is_real, is_forward, fct)\n\u001b[1;32m     74\u001b[0m     r \u001b[39m=\u001b[39m swapaxes(r, axis, \u001b[39m-\u001b[39m\u001b[39m1\u001b[39m)\n\u001b[1;32m     75\u001b[0m \u001b[39mreturn\u001b[39;00m r\n",
      "\u001b[0;31mKeyboardInterrupt\u001b[0m: "
     ]
    }
   ],
   "source": [
    "import librosa\n",
    "from music21 import pitch\n",
    "import numpy as np\n",
    "import matplotlib.pyplot as plt\n",
    "import os\n",
    "\n",
    "Chemin_Utilisateur = os.path.expanduser('~')\n",
    "\n",
    "print(Chemin_Utilisateur)\n",
    "\n",
    "Chemin_Dossier = os.path.join(Chemin_Utilisateur, \"Téléchargements\", \"archive\", \"MP3-Example\")\n",
    "\n",
    "def Liste_Fichiers(Chemin_Dossier):\n",
    "    Chemin_Fichiers = []\n",
    "    for Fichier in os.listdir(Chemin_Dossier):\n",
    "        if os.path.isdir(os.path.join(Chemin_Dossier, Fichier)):\n",
    "            Chemin_Fichiers += Liste_Fichiers(os.path.join(Chemin_Dossier, Fichier))\n",
    "        else:\n",
    "            Chemin_Fichiers.append(os.path.join(Chemin_Dossier, Fichier))\n",
    "            \n",
    "    return Chemin_Fichiers\n",
    "\n",
    "\n",
    "def Obtenir_Characteristques_Audio(Chemin_Audio):\n",
    "    Signal, Taux_Echantillonage = librosa.load(Chemin_Audio)\n",
    "\n",
    "    # Extraction du loudness\n",
    "    Loudness = librosa.feature.rms(y=Signal).mean()\n",
    "\n",
    "    # Extraction du rythme\n",
    "    Rythme = librosa.feature.rhythm.tempo(y=Signal, sr=Taux_Echantillonage)[0]\n",
    "\n",
    "   # Calculer la tonalité\n",
    "    pitch = librosa.yin(signal, fmin=librosa.note_to_hz('C2'), fmax=librosa.note_to_hz('C7'))\n",
    "\n",
    "    # Convertir la tonalité en notation MIDI\n",
    "    midi_pitch = librosa.hz_to_note(pitch)\n",
    "\n",
    "    return Loudness, Rythme, midi_pitch\n",
    "\n",
    "\n",
    "Chemin_Fichiers = Liste_Fichiers(Chemin_Dossier)\n",
    "\n",
    "for Chemin_Fichier in Chemin_Fichiers:\n",
    "    Loudness, Rythme, Tonalite = Obtenir_Characteristques_Audio(Chemin_Fichier)\n",
    "    print(f\"Fichier: {Chemin_Fichier}, Loudness: {Loudness}, Rythme: {Rythme}, Tonalite: {Tonalite}\")\n"
   ]
  },
  {
   "attachments": {},
   "cell_type": "markdown",
   "metadata": {},
   "source": [
    "Tralalaa\n"
   ]
  },
  {
   "cell_type": "code",
   "execution_count": null,
   "metadata": {},
   "outputs": [
    {
     "name": "stdout",
     "output_type": "stream",
     "text": [
      "Loudness:  0.27607745\n",
      "Rythme:  99.38401442307692 BPM\n",
      "Tonalité estimée: C\n"
     ]
    }
   ],
   "source": []
  }
 ],
 "metadata": {
  "kernelspec": {
   "display_name": "Python 3",
   "language": "python",
   "name": "python3"
  },
  "language_info": {
   "codemirror_mode": {
    "name": "ipython",
    "version": 3
   },
   "file_extension": ".py",
   "mimetype": "text/x-python",
   "name": "python",
   "nbconvert_exporter": "python",
   "pygments_lexer": "ipython3",
   "version": "3.11.2"
  },
  "orig_nbformat": 4
 },
 "nbformat": 4,
 "nbformat_minor": 2
}
